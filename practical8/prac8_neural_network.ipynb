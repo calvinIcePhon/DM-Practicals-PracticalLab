{
  "cells": [
    {
      "cell_type": "markdown",
      "metadata": {
        "id": "view-in-github",
        "colab_type": "text"
      },
      "source": [
        "<a href=\"https://colab.research.google.com/github/calvinIcePhon/DM-Practicals-PracticalLab/blob/main/practical8/prac8_neural_network.ipynb\" target=\"_parent\"><img src=\"https://colab.research.google.com/assets/colab-badge.svg\" alt=\"Open In Colab\"/></a>"
      ]
    },
    {
      "cell_type": "markdown",
      "id": "deb56ef1-3459-43b4-af1f-9c5e30a76806",
      "metadata": {
        "id": "deb56ef1-3459-43b4-af1f-9c5e30a76806"
      },
      "source": [
        "# Practical 8: Neural Network\n",
        "\n",
        "### Prepared by: <a href=\"https://www.linkedin.com/in/a-kanaan/\">Dr Abdulkarim M. Jamal Kanaan</a>\n",
        "<hr>\n",
        "\n",
        "* Acknowledgements: I would like to acknowledge the book \"Hands-On Machine Learning with Scikit-Learn, Keras, and TensorFlow\" written by Aurélien Géron. This practical exercise was prepared by Chapter 10 of the book, titled \"Introduction to Artificial Neural Networks with Keras.\"\n",
        "\n",
        "<table align=\"left\">\n",
        "  <td>\n",
        "    <a href=\"https://colab.research.google.com/github/a-kanaan/dm-practicals/blob/main/practical8/prac8_neural_network.ipynb\" target=\"_parent\"><img src=\"https://colab.research.google.com/assets/colab-badge.svg\" alt=\"Open In Colab\"/></a>\n",
        "  </td>\n",
        "</table>"
      ]
    },
    {
      "cell_type": "markdown",
      "id": "4f7174bd-396a-495d-9f7a-6d40a22d26bf",
      "metadata": {
        "id": "4f7174bd-396a-495d-9f7a-6d40a22d26bf"
      },
      "source": [
        "## The Perceptron"
      ]
    },
    {
      "cell_type": "code",
      "execution_count": 1,
      "id": "39e28560-3c79-472c-b9b0-a8b878b2da7c",
      "metadata": {
        "colab": {
          "base_uri": "https://localhost:8080/"
        },
        "id": "39e28560-3c79-472c-b9b0-a8b878b2da7c",
        "outputId": "739a3f7c-99d6-4c35-8dd4-ff762ef97083"
      },
      "outputs": [
        {
          "output_type": "execute_result",
          "data": {
            "text/plain": [
              "array([ True, False])"
            ]
          },
          "metadata": {},
          "execution_count": 1
        }
      ],
      "source": [
        "import numpy as np\n",
        "from sklearn.datasets import load_iris\n",
        "from sklearn.linear_model import Perceptron\n",
        "\n",
        "iris = load_iris(as_frame=True)\n",
        "X = iris.data[[\"petal length (cm)\", \"petal width (cm)\"]].values\n",
        "y = (iris.target == 0)  # Iris setosa\n",
        "\n",
        "per_clf = Perceptron(random_state=42)\n",
        "per_clf.fit(X, y)\n",
        "\n",
        "X_new = [[2, 0.5], [3, 1]]\n",
        "y_pred = per_clf.predict(X_new)  # predicts True and False for these 2 flowers\n",
        "y_pred"
      ]
    },
    {
      "cell_type": "markdown",
      "id": "acff7dfe-0437-44d9-8b4a-751d60ff8d21",
      "metadata": {
        "id": "acff7dfe-0437-44d9-8b4a-751d60ff8d21"
      },
      "source": [
        "## Regression MLPs"
      ]
    },
    {
      "cell_type": "code",
      "execution_count": 8,
      "id": "2d4957bf-8ffd-4699-9a8a-e67baaae28a6",
      "metadata": {
        "colab": {
          "base_uri": "https://localhost:8080/"
        },
        "id": "2d4957bf-8ffd-4699-9a8a-e67baaae28a6",
        "outputId": "93211458-ebda-4806-a993-321369549f24"
      },
      "outputs": [
        {
          "output_type": "execute_result",
          "data": {
            "text/plain": [
              "0.9699531549725992"
            ]
          },
          "metadata": {},
          "execution_count": 8
        }
      ],
      "source": [
        "from sklearn.datasets import fetch_california_housing\n",
        "from sklearn.metrics import mean_squared_error\n",
        "from sklearn.model_selection import train_test_split\n",
        "from sklearn.neural_network import MLPRegressor\n",
        "from sklearn.pipeline import make_pipeline\n",
        "from sklearn.preprocessing import StandardScaler\n",
        "\n",
        "housing = fetch_california_housing()\n",
        "X_train_full, X_test, y_train_full, y_test = train_test_split(\n",
        "    housing.data, housing.target, random_state=42)\n",
        "X_train, X_valid, y_train, y_valid = train_test_split(\n",
        "    X_train_full, y_train_full, random_state=42)\n",
        "\n",
        "mlp_reg = MLPRegressor(hidden_layer_sizes=[100, 100, 100], random_state=42)\n",
        "pipeline = make_pipeline(StandardScaler(), mlp_reg)\n",
        "pipeline.fit(X_train, y_train)\n",
        "y_pred = pipeline.predict(X_valid) #clean prediction\n",
        "rmse = mean_squared_error(y_valid, y_pred, squared=False) #validation score\n",
        "rmse"
      ]
    },
    {
      "cell_type": "markdown",
      "id": "c9c2d3d1-0ec0-4229-9312-8fc5a95013c5",
      "metadata": {
        "id": "c9c2d3d1-0ec0-4229-9312-8fc5a95013c5"
      },
      "source": [
        "## Classification MLPs"
      ]
    },
    {
      "cell_type": "code",
      "execution_count": 10,
      "id": "e77cfa04-d936-44e8-8758-181f2a5d2b52",
      "metadata": {
        "colab": {
          "base_uri": "https://localhost:8080/"
        },
        "id": "e77cfa04-d936-44e8-8758-181f2a5d2b52",
        "outputId": "2d460171-e8be-4380-c898-c1c1a86d7481"
      },
      "outputs": [
        {
          "output_type": "execute_result",
          "data": {
            "text/plain": [
              "1.0"
            ]
          },
          "metadata": {},
          "execution_count": 10
        }
      ],
      "source": [
        "from sklearn.datasets import load_iris\n",
        "from sklearn.model_selection import train_test_split\n",
        "from sklearn.neural_network import MLPClassifier\n",
        "\n",
        "iris = load_iris()\n",
        "X_train_full, X_test, y_train_full, y_test = train_test_split(\n",
        "    iris.data, iris.target, test_size=0.1, random_state=42)\n",
        "X_train, X_valid, y_train, y_valid = train_test_split(\n",
        "    X_train_full, y_train_full, test_size=0.1, random_state=42)\n",
        "\n",
        "mlp_clf = MLPClassifier(hidden_layer_sizes=[5], max_iter=10_000,\n",
        "                        random_state=42)\n",
        "pipeline = make_pipeline(StandardScaler(), mlp_clf)\n",
        "pipeline.fit(X_train, y_train)\n",
        "accuracy = pipeline.score(X_valid, y_valid) #score by default\n",
        "accuracy"
      ]
    },
    {
      "cell_type": "markdown",
      "id": "3f4e8317-cb31-4d2e-8401-fe6853d59596",
      "metadata": {
        "id": "3f4e8317-cb31-4d2e-8401-fe6853d59596"
      },
      "source": [
        "## Building an Image Classifier Using the Sequential API"
      ]
    },
    {
      "cell_type": "code",
      "execution_count": 11,
      "id": "18c32763-9dc3-48f7-aa98-3bf85443fc9c",
      "metadata": {
        "colab": {
          "base_uri": "https://localhost:8080/"
        },
        "id": "18c32763-9dc3-48f7-aa98-3bf85443fc9c",
        "outputId": "8e3c99a4-8c76-48a3-ef7d-3d716aa70d79"
      },
      "outputs": [
        {
          "output_type": "stream",
          "name": "stdout",
          "text": [
            "Downloading data from https://storage.googleapis.com/tensorflow/tf-keras-datasets/train-labels-idx1-ubyte.gz\n",
            "29515/29515 [==============================] - 0s 1us/step\n",
            "Downloading data from https://storage.googleapis.com/tensorflow/tf-keras-datasets/train-images-idx3-ubyte.gz\n",
            "26421880/26421880 [==============================] - 2s 0us/step\n",
            "Downloading data from https://storage.googleapis.com/tensorflow/tf-keras-datasets/t10k-labels-idx1-ubyte.gz\n",
            "5148/5148 [==============================] - 0s 0us/step\n",
            "Downloading data from https://storage.googleapis.com/tensorflow/tf-keras-datasets/t10k-images-idx3-ubyte.gz\n",
            "4422102/4422102 [==============================] - 1s 0us/step\n"
          ]
        }
      ],
      "source": [
        "import tensorflow as tf\n",
        "\n",
        "fashion_mnist = tf.keras.datasets.fashion_mnist.load_data()\n",
        "(X_train_full, y_train_full), (X_test, y_test) = fashion_mnist\n",
        "X_train, y_train = X_train_full[:-5000], y_train_full[:-5000]\n",
        "X_valid, y_valid = X_train_full[-5000:], y_train_full[-5000:]"
      ]
    },
    {
      "cell_type": "code",
      "execution_count": 12,
      "id": "9sZoWVNE4ty4",
      "metadata": {
        "colab": {
          "base_uri": "https://localhost:8080/"
        },
        "id": "9sZoWVNE4ty4",
        "outputId": "c0a2ab7a-2803-4a3c-e351-a334a7cc1c68"
      },
      "outputs": [
        {
          "output_type": "execute_result",
          "data": {
            "text/plain": [
              "(60000, 28, 28)"
            ]
          },
          "metadata": {},
          "execution_count": 12
        }
      ],
      "source": [
        "X_train_full.shape"
      ]
    },
    {
      "cell_type": "code",
      "execution_count": 13,
      "id": "c230d109-d479-4d59-aa58-6923eac9158d",
      "metadata": {
        "colab": {
          "base_uri": "https://localhost:8080/"
        },
        "id": "c230d109-d479-4d59-aa58-6923eac9158d",
        "outputId": "caa2e3ef-d0c2-484a-d0a6-0c1f5f8579cc"
      },
      "outputs": [
        {
          "output_type": "execute_result",
          "data": {
            "text/plain": [
              "(55000, 28, 28)"
            ]
          },
          "metadata": {},
          "execution_count": 13
        }
      ],
      "source": [
        "X_train.shape"
      ]
    },
    {
      "cell_type": "code",
      "execution_count": 14,
      "id": "d9ec2643-f456-4515-a03c-e43b470d17f3",
      "metadata": {
        "id": "d9ec2643-f456-4515-a03c-e43b470d17f3"
      },
      "outputs": [],
      "source": [
        "X_train, X_valid, X_test = X_train / 255., X_valid / 255., X_test / 255."
      ]
    },
    {
      "cell_type": "code",
      "execution_count": 16,
      "id": "78aa7241-a089-44ce-a7f9-d6d27837c933",
      "metadata": {
        "colab": {
          "base_uri": "https://localhost:8080/",
          "height": 430
        },
        "id": "78aa7241-a089-44ce-a7f9-d6d27837c933",
        "outputId": "79f4751f-6017-4aeb-cd45-ef91b49dcdef"
      },
      "outputs": [
        {
          "output_type": "display_data",
          "data": {
            "text/plain": [
              "<Figure size 640x480 with 1 Axes>"
            ],
            "image/png": "[encoded data removed]"
          },
          "metadata": {}
        }
      ],
      "source": [
        "#show sample\n",
        "import matplotlib.pyplot as plt\n",
        "plt.imshow(X_train[0], cmap=\"binary\")\n",
        "plt.axis()\n",
        "plt.show()"
      ]
    },
    {
      "cell_type": "code",
      "execution_count": 17,
      "id": "e2db3bec-da32-43a6-b5d1-39398abc79c1",
      "metadata": {
        "colab": {
          "base_uri": "https://localhost:8080/"
        },
        "id": "e2db3bec-da32-43a6-b5d1-39398abc79c1",
        "outputId": "8469b38d-74e0-4662-9d05-e315efffe8b9"
      },
      "outputs": [
        {
          "output_type": "execute_result",
          "data": {
            "text/plain": [
              "array([9, 0, 0, ..., 9, 0, 2], dtype=uint8)"
            ]
          },
          "metadata": {},
          "execution_count": 17
        }
      ],
      "source": [
        "y_train"
      ]
    },
    {
      "cell_type": "code",
      "execution_count": 18,
      "id": "3aY43uid6F1O",
      "metadata": {
        "colab": {
          "base_uri": "https://localhost:8080/"
        },
        "id": "3aY43uid6F1O",
        "outputId": "28c9866c-5d5d-4517-c805-786fb4bda307"
      },
      "outputs": [
        {
          "output_type": "execute_result",
          "data": {
            "text/plain": [
              "array([0, 1, 2, 3, 4, 5, 6, 7, 8, 9], dtype=uint8)"
            ]
          },
          "metadata": {},
          "execution_count": 18
        }
      ],
      "source": [
        "import numpy as np\n",
        "np.unique(y_train)"
      ]
    },
    {
      "cell_type": "code",
      "execution_count": 20,
      "id": "95eb87fa-0f9c-47e1-830f-e62e31f78ed8",
      "metadata": {
        "id": "95eb87fa-0f9c-47e1-830f-e62e31f78ed8"
      },
      "outputs": [],
      "source": [
        "class_names = [\"T-shirt/top\", \"Trouser\", \"Pullover\", \"Dress\", \"Coat\",\n",
        "               \"Sandal\", \"Shirt\", \"Sneaker\", \"Bag\", \"Ankle boot\"]"
      ]
    },
    {
      "cell_type": "code",
      "execution_count": 21,
      "id": "e6ff5252-2ee5-4c80-9daa-482735588182",
      "metadata": {
        "colab": {
          "base_uri": "https://localhost:8080/",
          "height": 35
        },
        "id": "e6ff5252-2ee5-4c80-9daa-482735588182",
        "outputId": "3288a2e5-f270-451c-d6a2-bc4efc30d124"
      },
      "outputs": [
        {
          "output_type": "execute_result",
          "data": {
            "text/plain": [
              "'Ankle boot'"
            ],
            "application/vnd.google.colaboratory.intrinsic+json": {
              "type": "string"
            }
          },
          "metadata": {},
          "execution_count": 21
        }
      ],
      "source": [
        "class_names[y_train[0]]"
      ]
    },
    {
      "cell_type": "markdown",
      "id": "533fc5a6-838f-486d-975a-328e5eaaa6a2",
      "metadata": {
        "id": "533fc5a6-838f-486d-975a-328e5eaaa6a2"
      },
      "source": [
        "### Create Model"
      ]
    },
    {
      "cell_type": "code",
      "execution_count": 22,
      "id": "697fc2f8-3e1f-45f6-9082-d00e39fee147",
      "metadata": {
        "id": "697fc2f8-3e1f-45f6-9082-d00e39fee147"
      },
      "outputs": [],
      "source": [
        "# create model\n",
        "tf.random.set_seed(42)\n",
        "model = tf.keras.Sequential()\n",
        "model.add(tf.keras.layers.InputLayer(input_shape=[28, 28])) #28X28=784\n",
        "model.add(tf.keras.layers.Flatten())\n",
        "model.add(tf.keras.layers.Dense(300, activation=\"relu\")) #1st hidden\n",
        "model.add(tf.keras.layers.Dense(100, activation=\"relu\")) #2nd hidden\n",
        "model.add(tf.keras.layers.Dense(10, activation=\"softmax\")) #output layer"
      ]
    },
    {
      "cell_type": "code",
      "execution_count": 23,
      "id": "55a4b27d-2154-4c17-99f4-3ff02d04dfd3",
      "metadata": {
        "colab": {
          "base_uri": "https://localhost:8080/"
        },
        "id": "55a4b27d-2154-4c17-99f4-3ff02d04dfd3",
        "outputId": "2bae24af-e615-4885-d1f5-46663e478c1d"
      },
      "outputs": [
        {
          "output_type": "stream",
          "name": "stdout",
          "text": [
            "Model: \"sequential\"\n",
            "_________________________________________________________________\n",
            " Layer (type)                Output Shape              Param #   \n",
            "=================================================================\n",
            " flatten (Flatten)           (None, 784)               0         \n",
            "                                                                 \n",
            " dense (Dense)               (None, 300)               235500    \n",
            "                                                                 \n",
            " dense_1 (Dense)             (None, 100)               30100     \n",
            "                                                                 \n",
            " dense_2 (Dense)             (None, 10)                1010      \n",
            "                                                                 \n",
            "=================================================================\n",
            "Total params: 266,610\n",
            "Trainable params: 266,610\n",
            "Non-trainable params: 0\n",
            "_________________________________________________________________\n"
          ]
        }
      ],
      "source": [
        "model.summary()"
      ]
    },
    {
      "cell_type": "code",
      "execution_count": 24,
      "id": "8280a1da-4ff6-433d-a076-3fccb50e6ffe",
      "metadata": {
        "colab": {
          "base_uri": "https://localhost:8080/"
        },
        "id": "8280a1da-4ff6-433d-a076-3fccb50e6ffe",
        "outputId": "2623e55b-a519-4b45-978d-3f285c41e50d"
      },
      "outputs": [
        {
          "output_type": "execute_result",
          "data": {
            "text/plain": [
              "[<keras.layers.reshaping.flatten.Flatten at 0x789806313190>,\n",
              " <keras.layers.core.dense.Dense at 0x7897e8b4b280>,\n",
              " <keras.layers.core.dense.Dense at 0x7897e8b4bc70>,\n",
              " <keras.layers.core.dense.Dense at 0x7897e00c83a0>]"
            ]
          },
          "metadata": {},
          "execution_count": 24
        }
      ],
      "source": [
        "model.layers"
      ]
    },
    {
      "cell_type": "code",
      "execution_count": 26,
      "id": "7adfcfc8-1d12-4037-83d5-274ed41d4956",
      "metadata": {
        "colab": {
          "base_uri": "https://localhost:8080/",
          "height": 35
        },
        "id": "7adfcfc8-1d12-4037-83d5-274ed41d4956",
        "outputId": "d141a493-5774-4531-cb87-4da4f2c7ca04"
      },
      "outputs": [
        {
          "output_type": "execute_result",
          "data": {
            "text/plain": [
              "'dense'"
            ],
            "application/vnd.google.colaboratory.intrinsic+json": {
              "type": "string"
            }
          },
          "metadata": {},
          "execution_count": 26
        }
      ],
      "source": [
        "hidden1 = model.layers[1]\n",
        "hidden1.name"
      ]
    },
    {
      "cell_type": "code",
      "execution_count": 27,
      "id": "86f9bb51-4467-49ea-826e-a8821491a089",
      "metadata": {
        "colab": {
          "base_uri": "https://localhost:8080/"
        },
        "id": "86f9bb51-4467-49ea-826e-a8821491a089",
        "outputId": "32176841-971c-4877-ed1c-e7c662f4d9af"
      },
      "outputs": [
        {
          "output_type": "execute_result",
          "data": {
            "text/plain": [
              "array([[ 0.06372397,  0.02572404,  0.01961656, ...,  0.0562464 ,\n",
              "        -0.02996573,  0.00782795],\n",
              "       [-0.06043519, -0.05677768,  0.03119909, ..., -0.0671306 ,\n",
              "        -0.00290108,  0.00409801],\n",
              "       [-0.04877415, -0.05297039,  0.04840655, ..., -0.04145952,\n",
              "         0.02382629,  0.0622977 ],\n",
              "       ...,\n",
              "       [ 0.05764174,  0.00593592, -0.02295828, ...,  0.06284884,\n",
              "         0.0556052 , -0.00978699],\n",
              "       [ 0.01277514,  0.02862033,  0.0068188 , ...,  0.05120991,\n",
              "        -0.02664011, -0.0454836 ],\n",
              "       [-0.01402328, -0.0473368 , -0.06134793, ...,  0.03531644,\n",
              "        -0.01706351, -0.01587951]], dtype=float32)"
            ]
          },
          "metadata": {},
          "execution_count": 27
        }
      ],
      "source": [
        "weights, biases = hidden1.get_weights()\n",
        "weights"
      ]
    },
    {
      "cell_type": "code",
      "execution_count": 28,
      "id": "584a8587-97d7-4d95-9acb-f6dc731bf510",
      "metadata": {
        "colab": {
          "base_uri": "https://localhost:8080/"
        },
        "id": "584a8587-97d7-4d95-9acb-f6dc731bf510",
        "outputId": "9bea417f-49a9-40da-86da-c0491a2ed526"
      },
      "outputs": [
        {
          "output_type": "execute_result",
          "data": {
            "text/plain": [
              "(784, 300)"
            ]
          },
          "metadata": {},
          "execution_count": 28
        }
      ],
      "source": [
        "weights.shape"
      ]
    },
    {
      "cell_type": "code",
      "execution_count": 29,
      "id": "H0X5oqGe_utx",
      "metadata": {
        "colab": {
          "base_uri": "https://localhost:8080/"
        },
        "id": "H0X5oqGe_utx",
        "outputId": "66b9318f-e0fe-4047-af17-e07a21834992"
      },
      "outputs": [
        {
          "output_type": "execute_result",
          "data": {
            "text/plain": [
              "array([0., 0., 0., 0., 0., 0., 0., 0., 0., 0., 0., 0., 0., 0., 0., 0., 0.,\n",
              "       0., 0., 0., 0., 0., 0., 0., 0., 0., 0., 0., 0., 0., 0., 0., 0., 0.,\n",
              "       0., 0., 0., 0., 0., 0., 0., 0., 0., 0., 0., 0., 0., 0., 0., 0., 0.,\n",
              "       0., 0., 0., 0., 0., 0., 0., 0., 0., 0., 0., 0., 0., 0., 0., 0., 0.,\n",
              "       0., 0., 0., 0., 0., 0., 0., 0., 0., 0., 0., 0., 0., 0., 0., 0., 0.,\n",
              "       0., 0., 0., 0., 0., 0., 0., 0., 0., 0., 0., 0., 0., 0., 0., 0., 0.,\n",
              "       0., 0., 0., 0., 0., 0., 0., 0., 0., 0., 0., 0., 0., 0., 0., 0., 0.,\n",
              "       0., 0., 0., 0., 0., 0., 0., 0., 0., 0., 0., 0., 0., 0., 0., 0., 0.,\n",
              "       0., 0., 0., 0., 0., 0., 0., 0., 0., 0., 0., 0., 0., 0., 0., 0., 0.,\n",
              "       0., 0., 0., 0., 0., 0., 0., 0., 0., 0., 0., 0., 0., 0., 0., 0., 0.,\n",
              "       0., 0., 0., 0., 0., 0., 0., 0., 0., 0., 0., 0., 0., 0., 0., 0., 0.,\n",
              "       0., 0., 0., 0., 0., 0., 0., 0., 0., 0., 0., 0., 0., 0., 0., 0., 0.,\n",
              "       0., 0., 0., 0., 0., 0., 0., 0., 0., 0., 0., 0., 0., 0., 0., 0., 0.,\n",
              "       0., 0., 0., 0., 0., 0., 0., 0., 0., 0., 0., 0., 0., 0., 0., 0., 0.,\n",
              "       0., 0., 0., 0., 0., 0., 0., 0., 0., 0., 0., 0., 0., 0., 0., 0., 0.,\n",
              "       0., 0., 0., 0., 0., 0., 0., 0., 0., 0., 0., 0., 0., 0., 0., 0., 0.,\n",
              "       0., 0., 0., 0., 0., 0., 0., 0., 0., 0., 0., 0., 0., 0., 0., 0., 0.,\n",
              "       0., 0., 0., 0., 0., 0., 0., 0., 0., 0., 0.], dtype=float32)"
            ]
          },
          "metadata": {},
          "execution_count": 29
        }
      ],
      "source": [
        "biases"
      ]
    },
    {
      "cell_type": "code",
      "execution_count": null,
      "id": "5dbbdaa2-3d43-4048-ab28-1d79d7666748",
      "metadata": {
        "colab": {
          "base_uri": "https://localhost:8080/"
        },
        "id": "5dbbdaa2-3d43-4048-ab28-1d79d7666748",
        "outputId": "fb6d7075-bef1-477e-cdd3-a1bc0e6421fa"
      },
      "outputs": [
        {
          "data": {
            "text/plain": [
              "(300,)"
            ]
          },
          "execution_count": 20,
          "metadata": {},
          "output_type": "execute_result"
        }
      ],
      "source": [
        "biases.shape"
      ]
    },
    {
      "cell_type": "markdown",
      "id": "07ac3df6-dba1-41b0-ad2e-3dcc7b5e427e",
      "metadata": {
        "id": "07ac3df6-dba1-41b0-ad2e-3dcc7b5e427e"
      },
      "source": [
        "### Compile Model"
      ]
    },
    {
      "cell_type": "code",
      "execution_count": 31,
      "id": "f45e3eba-a082-407f-9710-304c9a90661d",
      "metadata": {
        "id": "f45e3eba-a082-407f-9710-304c9a90661d"
      },
      "outputs": [],
      "source": [
        "model.compile(loss=\"sparse_categorical_crossentropy\",\n",
        "              optimizer=\"sgd\",\n",
        "              metrics=[\"accuracy\"])"
      ]
    },
    {
      "cell_type": "markdown",
      "id": "c405aa04-9345-4fed-a4f0-ffb71f826f06",
      "metadata": {
        "id": "c405aa04-9345-4fed-a4f0-ffb71f826f06"
      },
      "source": [
        "### Train Model"
      ]
    },
    {
      "cell_type": "code",
      "execution_count": 33,
      "id": "2c68c8a4-6004-4146-939e-18ce404a4831",
      "metadata": {
        "colab": {
          "base_uri": "https://localhost:8080/"
        },
        "id": "2c68c8a4-6004-4146-939e-18ce404a4831",
        "outputId": "2126436d-ba7f-4247-a1c7-2bfcdf1a9825"
      },
      "outputs": [
        {
          "output_type": "stream",
          "name": "stdout",
          "text": [
            "Epoch 1/30\n",
            "1719/1719 [==============================] - 5s 3ms/step - loss: 0.2192 - accuracy: 0.9205 - val_loss: 0.3326 - val_accuracy: 0.8810\n",
            "Epoch 2/30\n",
            "1719/1719 [==============================] - 5s 3ms/step - loss: 0.2164 - accuracy: 0.9219 - val_loss: 0.3206 - val_accuracy: 0.8840\n",
            "Epoch 3/30\n",
            "1719/1719 [==============================] - 5s 3ms/step - loss: 0.2118 - accuracy: 0.9230 - val_loss: 0.3188 - val_accuracy: 0.8840\n",
            "Epoch 4/30\n",
            "1719/1719 [==============================] - 5s 3ms/step - loss: 0.2097 - accuracy: 0.9250 - val_loss: 0.3090 - val_accuracy: 0.8908\n",
            "Epoch 5/30\n",
            "1719/1719 [==============================] - 6s 3ms/step - loss: 0.2057 - accuracy: 0.9254 - val_loss: 0.3103 - val_accuracy: 0.8858\n",
            "Epoch 6/30\n",
            "1719/1719 [==============================] - 5s 3ms/step - loss: 0.2013 - accuracy: 0.9283 - val_loss: 0.3293 - val_accuracy: 0.8862\n",
            "Epoch 7/30\n",
            "1719/1719 [==============================] - 6s 3ms/step - loss: 0.1996 - accuracy: 0.9274 - val_loss: 0.3250 - val_accuracy: 0.8850\n",
            "Epoch 8/30\n",
            "1719/1719 [==============================] - 5s 3ms/step - loss: 0.1960 - accuracy: 0.9300 - val_loss: 0.3229 - val_accuracy: 0.8876\n",
            "Epoch 9/30\n",
            "1719/1719 [==============================] - 6s 3ms/step - loss: 0.1934 - accuracy: 0.9303 - val_loss: 0.3046 - val_accuracy: 0.8910\n",
            "Epoch 10/30\n",
            "1719/1719 [==============================] - 5s 3ms/step - loss: 0.1893 - accuracy: 0.9314 - val_loss: 0.3176 - val_accuracy: 0.8884\n",
            "Epoch 11/30\n",
            "1719/1719 [==============================] - 6s 3ms/step - loss: 0.1867 - accuracy: 0.9336 - val_loss: 0.3142 - val_accuracy: 0.8892\n",
            "Epoch 12/30\n",
            "1719/1719 [==============================] - 6s 4ms/step - loss: 0.1840 - accuracy: 0.9337 - val_loss: 0.3099 - val_accuracy: 0.8954\n",
            "Epoch 13/30\n",
            "1719/1719 [==============================] - 5s 3ms/step - loss: 0.1807 - accuracy: 0.9356 - val_loss: 0.3053 - val_accuracy: 0.8942\n",
            "Epoch 14/30\n",
            "1719/1719 [==============================] - 6s 3ms/step - loss: 0.1770 - accuracy: 0.9366 - val_loss: 0.3216 - val_accuracy: 0.8896\n",
            "Epoch 15/30\n",
            "1719/1719 [==============================] - 5s 3ms/step - loss: 0.1742 - accuracy: 0.9382 - val_loss: 0.3220 - val_accuracy: 0.8916\n",
            "Epoch 16/30\n",
            "1719/1719 [==============================] - 6s 3ms/step - loss: 0.1713 - accuracy: 0.9394 - val_loss: 0.3219 - val_accuracy: 0.8888\n",
            "Epoch 17/30\n",
            "1719/1719 [==============================] - 6s 3ms/step - loss: 0.1687 - accuracy: 0.9394 - val_loss: 0.3179 - val_accuracy: 0.8920\n",
            "Epoch 18/30\n",
            "1719/1719 [==============================] - 6s 3ms/step - loss: 0.1662 - accuracy: 0.9412 - val_loss: 0.3199 - val_accuracy: 0.8914\n",
            "Epoch 19/30\n",
            "1719/1719 [==============================] - 5s 3ms/step - loss: 0.1638 - accuracy: 0.9419 - val_loss: 0.3866 - val_accuracy: 0.8628\n",
            "Epoch 20/30\n",
            "1719/1719 [==============================] - 6s 3ms/step - loss: 0.1609 - accuracy: 0.9430 - val_loss: 0.3409 - val_accuracy: 0.8836\n",
            "Epoch 21/30\n",
            "1719/1719 [==============================] - 5s 3ms/step - loss: 0.1593 - accuracy: 0.9428 - val_loss: 0.3116 - val_accuracy: 0.8916\n",
            "Epoch 22/30\n",
            "1719/1719 [==============================] - 5s 3ms/step - loss: 0.1562 - accuracy: 0.9439 - val_loss: 0.3245 - val_accuracy: 0.8928\n",
            "Epoch 23/30\n",
            "1719/1719 [==============================] - 6s 3ms/step - loss: 0.1530 - accuracy: 0.9459 - val_loss: 0.3373 - val_accuracy: 0.8854\n",
            "Epoch 24/30\n",
            "1719/1719 [==============================] - 5s 3ms/step - loss: 0.1508 - accuracy: 0.9452 - val_loss: 0.3175 - val_accuracy: 0.8916\n",
            "Epoch 25/30\n",
            "1719/1719 [==============================] - 6s 3ms/step - loss: 0.1477 - accuracy: 0.9479 - val_loss: 0.3252 - val_accuracy: 0.8916\n",
            "Epoch 26/30\n",
            "1719/1719 [==============================] - 5s 3ms/step - loss: 0.1464 - accuracy: 0.9479 - val_loss: 0.3174 - val_accuracy: 0.8918\n",
            "Epoch 27/30\n",
            "1719/1719 [==============================] - 6s 3ms/step - loss: 0.1430 - accuracy: 0.9496 - val_loss: 0.3277 - val_accuracy: 0.8928\n",
            "Epoch 28/30\n",
            "1719/1719 [==============================] - 5s 3ms/step - loss: 0.1404 - accuracy: 0.9503 - val_loss: 0.3225 - val_accuracy: 0.8936\n",
            "Epoch 29/30\n",
            "1719/1719 [==============================] - 6s 3ms/step - loss: 0.1388 - accuracy: 0.9509 - val_loss: 0.3297 - val_accuracy: 0.8916\n",
            "Epoch 30/30\n",
            "1719/1719 [==============================] - 5s 3ms/step - loss: 0.1369 - accuracy: 0.9510 - val_loss: 0.3213 - val_accuracy: 0.8948\n"
          ]
        }
      ],
      "source": [
        "history = model.fit(X_train, y_train, epochs=30,\n",
        "                    validation_data=(X_valid, y_valid))"
      ]
    },
    {
      "cell_type": "markdown",
      "id": "0d861b28-c273-4272-bf64-ce4037e32253",
      "metadata": {
        "id": "0d861b28-c273-4272-bf64-ce4037e32253"
      },
      "source": [
        "### Evaluate Model"
      ]
    },
    {
      "cell_type": "code",
      "execution_count": 34,
      "id": "ef1043cf-0373-401d-bca5-d52327d8f4b4",
      "metadata": {
        "colab": {
          "base_uri": "https://localhost:8080/"
        },
        "id": "ef1043cf-0373-401d-bca5-d52327d8f4b4",
        "outputId": "c2ea1507-a17f-4f89-9c79-f8682158a6e3"
      },
      "outputs": [
        {
          "output_type": "stream",
          "name": "stdout",
          "text": [
            "313/313 [==============================] - 1s 2ms/step - loss: 0.3328 - accuracy: 0.8897\n"
          ]
        },
        {
          "output_type": "execute_result",
          "data": {
            "text/plain": [
              "[0.33275672793388367, 0.8896999955177307]"
            ]
          },
          "metadata": {},
          "execution_count": 34
        }
      ],
      "source": [
        "model.evaluate(X_test, y_test)"
      ]
    },
    {
      "cell_type": "markdown",
      "id": "d677c7a9-08ca-4ece-b79c-8635ca0b1409",
      "metadata": {
        "id": "d677c7a9-08ca-4ece-b79c-8635ca0b1409"
      },
      "source": [
        "### Predict"
      ]
    },
    {
      "cell_type": "code",
      "execution_count": 41,
      "id": "6125db18-bc37-497b-819f-d76f2a07e5db",
      "metadata": {
        "colab": {
          "base_uri": "https://localhost:8080/"
        },
        "id": "6125db18-bc37-497b-819f-d76f2a07e5db",
        "outputId": "a1ef4f07-fcc3-48f0-a235-ed3e8b0894ac"
      },
      "outputs": [
        {
          "output_type": "stream",
          "name": "stdout",
          "text": [
            "1/1 [==============================] - 0s 19ms/step\n"
          ]
        },
        {
          "output_type": "execute_result",
          "data": {
            "text/plain": [
              "3.0"
            ]
          },
          "metadata": {},
          "execution_count": 41
        }
      ],
      "source": [
        "X_new = X_test[:3]\n",
        "y_proba = model.predict(X_new)\n",
        "y_proba.round().sum()"
      ]
    },
    {
      "cell_type": "code",
      "source": [],
      "metadata": {
        "id": "tBgd6u5UvtLW"
      },
      "id": "tBgd6u5UvtLW",
      "execution_count": null,
      "outputs": []
    }
  ],
  "metadata": {
    "accelerator": "GPU",
    "colab": {
      "gpuType": "T4",
      "provenance": [],
      "toc_visible": true,
      "include_colab_link": true
    },
    "kernelspec": {
      "display_name": "Python 3",
      "name": "python3"
    },
    "language_info": {
      "codemirror_mode": {
        "name": "ipython",
        "version": 3
      },
      "file_extension": ".py",
      "mimetype": "text/x-python",
      "name": "python",
      "nbconvert_exporter": "python",
      "pygments_lexer": "ipython3",
      "version": "3.8.13"
    }
  },
  "nbformat": 4,
  "nbformat_minor": 5
}