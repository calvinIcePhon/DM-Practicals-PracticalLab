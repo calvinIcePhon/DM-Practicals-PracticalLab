{
 "cells": [
  {
   "cell_type": "markdown",
   "id": "89e1d8b0-cb32-43c6-8df9-e191bf853b9a",
   "metadata": {},
   "source": [
    "# some note\n",
    "\n",
    "## use plot box diagram to check correlection for classification"
   ]
  },
  {
   "cell_type": "code",
   "execution_count": 12,
   "id": "2fa851de-582e-40da-a58e-fa65a831e797",
   "metadata": {},
   "outputs": [
    {
     "data": {
      "text/html": [
       "<div>\n",
       "<style scoped>\n",
       "    .dataframe tbody tr th:only-of-type {\n",
       "        vertical-align: middle;\n",
       "    }\n",
       "\n",
       "    .dataframe tbody tr th {\n",
       "        vertical-align: top;\n",
       "    }\n",
       "\n",
       "    .dataframe thead th {\n",
       "        text-align: right;\n",
       "    }\n",
       "</style>\n",
       "<table border=\"1\" class=\"dataframe\">\n",
       "  <thead>\n",
       "    <tr style=\"text-align: right;\">\n",
       "      <th></th>\n",
       "      <th>age</th>\n",
       "      <th>sex</th>\n",
       "      <th>cp</th>\n",
       "      <th>trtbps</th>\n",
       "      <th>chol</th>\n",
       "      <th>fbs</th>\n",
       "      <th>restecg</th>\n",
       "      <th>thalachh</th>\n",
       "      <th>exng</th>\n",
       "      <th>oldpeak</th>\n",
       "      <th>slp</th>\n",
       "      <th>ca</th>\n",
       "      <th>output</th>\n",
       "    </tr>\n",
       "  </thead>\n",
       "  <tbody>\n",
       "    <tr>\n",
       "      <th>0</th>\n",
       "      <td>63</td>\n",
       "      <td>male</td>\n",
       "      <td>asymptomatic</td>\n",
       "      <td>145</td>\n",
       "      <td>233</td>\n",
       "      <td>True</td>\n",
       "      <td>0</td>\n",
       "      <td>150</td>\n",
       "      <td>no</td>\n",
       "      <td>2.3</td>\n",
       "      <td>downsloping</td>\n",
       "      <td>0</td>\n",
       "      <td>high</td>\n",
       "    </tr>\n",
       "    <tr>\n",
       "      <th>1</th>\n",
       "      <td>37</td>\n",
       "      <td>male</td>\n",
       "      <td>non-anginal pain</td>\n",
       "      <td>130</td>\n",
       "      <td>250</td>\n",
       "      <td>False</td>\n",
       "      <td>1</td>\n",
       "      <td>187</td>\n",
       "      <td>no</td>\n",
       "      <td>3.5</td>\n",
       "      <td>downsloping</td>\n",
       "      <td>0</td>\n",
       "      <td>high</td>\n",
       "    </tr>\n",
       "    <tr>\n",
       "      <th>2</th>\n",
       "      <td>41</td>\n",
       "      <td>female</td>\n",
       "      <td>atypical angina</td>\n",
       "      <td>130</td>\n",
       "      <td>204</td>\n",
       "      <td>False</td>\n",
       "      <td>0</td>\n",
       "      <td>172</td>\n",
       "      <td>no</td>\n",
       "      <td>1.4</td>\n",
       "      <td>upsloping</td>\n",
       "      <td>0</td>\n",
       "      <td>high</td>\n",
       "    </tr>\n",
       "    <tr>\n",
       "      <th>3</th>\n",
       "      <td>56</td>\n",
       "      <td>male</td>\n",
       "      <td>atypical angina</td>\n",
       "      <td>120</td>\n",
       "      <td>236</td>\n",
       "      <td>False</td>\n",
       "      <td>1</td>\n",
       "      <td>178</td>\n",
       "      <td>no</td>\n",
       "      <td>0.8</td>\n",
       "      <td>upsloping</td>\n",
       "      <td>0</td>\n",
       "      <td>high</td>\n",
       "    </tr>\n",
       "    <tr>\n",
       "      <th>4</th>\n",
       "      <td>57</td>\n",
       "      <td>female</td>\n",
       "      <td>typical angina</td>\n",
       "      <td>120</td>\n",
       "      <td>354</td>\n",
       "      <td>False</td>\n",
       "      <td>1</td>\n",
       "      <td>163</td>\n",
       "      <td>yes</td>\n",
       "      <td>0.6</td>\n",
       "      <td>upsloping</td>\n",
       "      <td>0</td>\n",
       "      <td>high</td>\n",
       "    </tr>\n",
       "  </tbody>\n",
       "</table>\n",
       "</div>"
      ],
      "text/plain": [
       "   age     sex                cp  trtbps  chol    fbs  restecg  thalachh exng  \\\n",
       "0   63    male      asymptomatic     145   233   True        0       150   no   \n",
       "1   37    male  non-anginal pain     130   250  False        1       187   no   \n",
       "2   41  female   atypical angina     130   204  False        0       172   no   \n",
       "3   56    male   atypical angina     120   236  False        1       178   no   \n",
       "4   57  female    typical angina     120   354  False        1       163  yes   \n",
       "\n",
       "   oldpeak          slp  ca output  \n",
       "0      2.3  downsloping   0   high  \n",
       "1      3.5  downsloping   0   high  \n",
       "2      1.4    upsloping   0   high  \n",
       "3      0.8    upsloping   0   high  \n",
       "4      0.6    upsloping   0   high  "
      ]
     },
     "execution_count": 12,
     "metadata": {},
     "output_type": "execute_result"
    }
   ],
   "source": [
    "from pathlib import Path\n",
    "import pandas as pd\n",
    "import tarfile\n",
    "import urllib.request\n",
    "\n",
    "heart = pd.read_csv('heart.csv')\n",
    "heart.head()"
   ]
  },
  {
   "cell_type": "markdown",
   "id": "3f5a52dc-33dc-430f-9195-b69773a225d0",
   "metadata": {},
   "source": [
    "## Describe Data"
   ]
  },
  {
   "cell_type": "code",
   "execution_count": 13,
   "id": "6e61a966-1a85-4914-b7ed-ccb9f7910624",
   "metadata": {},
   "outputs": [
    {
     "name": "stdout",
     "output_type": "stream",
     "text": [
      "Data descriptions\n",
      "              age      trtbps        chol     restecg    thalachh     oldpeak  \\\n",
      "count  303.000000  303.000000  303.000000  303.000000  303.000000  303.000000   \n",
      "mean    54.366337  131.623762  246.264026    0.528053  149.646865    1.039604   \n",
      "std      9.082101   17.538143   51.830751    0.525860   22.905161    1.161075   \n",
      "min     29.000000   94.000000  126.000000    0.000000   71.000000    0.000000   \n",
      "25%     47.500000  120.000000  211.000000    0.000000  133.500000    0.000000   \n",
      "50%     55.000000  130.000000  240.000000    1.000000  153.000000    0.800000   \n",
      "75%     61.000000  140.000000  274.500000    1.000000  166.000000    1.600000   \n",
      "max     77.000000  200.000000  564.000000    2.000000  202.000000    6.200000   \n",
      "\n",
      "               ca  \n",
      "count  303.000000  \n",
      "mean     0.729373  \n",
      "std      1.022606  \n",
      "min      0.000000  \n",
      "25%      0.000000  \n",
      "50%      0.000000  \n",
      "75%      1.000000  \n",
      "max      4.000000  \n",
      "\n",
      "Info\n",
      "<class 'pandas.core.frame.DataFrame'>\n",
      "RangeIndex: 303 entries, 0 to 302\n",
      "Data columns (total 13 columns):\n",
      " #   Column    Non-Null Count  Dtype  \n",
      "---  ------    --------------  -----  \n",
      " 0   age       303 non-null    int64  \n",
      " 1   sex       303 non-null    object \n",
      " 2   cp        303 non-null    object \n",
      " 3   trtbps    303 non-null    int64  \n",
      " 4   chol      303 non-null    int64  \n",
      " 5   fbs       303 non-null    bool   \n",
      " 6   restecg   303 non-null    int64  \n",
      " 7   thalachh  303 non-null    int64  \n",
      " 8   exng      303 non-null    object \n",
      " 9   oldpeak   303 non-null    float64\n",
      " 10  slp       303 non-null    object \n",
      " 11  ca        303 non-null    int64  \n",
      " 12  output    303 non-null    object \n",
      "dtypes: bool(1), float64(1), int64(6), object(5)\n",
      "memory usage: 28.8+ KB\n",
      "None\n"
     ]
    }
   ],
   "source": [
    "\n",
    "\n",
    "print(\"Data descriptions\")\n",
    "\n",
    "print(heart.describe())\n",
    "\n",
    "print(\"\\nInfo\")\n",
    "\n",
    "print(heart.info())"
   ]
  },
  {
   "cell_type": "code",
   "execution_count": 14,
   "id": "20234d96-8551-4258-b871-3067e7aee34f",
   "metadata": {},
   "outputs": [
    {
     "data": {
      "text/plain": [
       "high    165\n",
       "low     138\n",
       "Name: output, dtype: int64"
      ]
     },
     "execution_count": 14,
     "metadata": {},
     "output_type": "execute_result"
    }
   ],
   "source": [
    "heart[\"output\"].value_counts()"
   ]
  },
  {
   "cell_type": "code",
   "execution_count": 18,
   "id": "e4cb8d50-b11f-4a67-a4cf-1b60721bc9b7",
   "metadata": {},
   "outputs": [
    {
     "data": {
      "image/png": "[encoded data removed]",
      "text/plain": [
       "<Figure size 1200x800 with 9 Axes>"
      ]
     },
     "metadata": {},
     "output_type": "display_data"
    },
    {
     "name": "stdout",
     "output_type": "stream",
     "text": [
      "\n",
      "\n",
      "\n",
      "\n",
      "Unique values in sex\n"
     ]
    },
    {
     "ename": "NameError",
     "evalue": "name 'train_set' is not defined",
     "output_type": "error",
     "traceback": [
      "\u001b[1;31m---------------------------------------------------------------------------\u001b[0m",
      "\u001b[1;31mNameError\u001b[0m                                 Traceback (most recent call last)",
      "Cell \u001b[1;32mIn[18], line 17\u001b[0m\n\u001b[0;32m     15\u001b[0m \u001b[38;5;28;01mfor\u001b[39;00m column \u001b[38;5;129;01min\u001b[39;00m categorical_columns:\n\u001b[0;32m     16\u001b[0m     \u001b[38;5;28mprint\u001b[39m(\u001b[38;5;124m\"\u001b[39m\u001b[38;5;130;01m\\n\u001b[39;00m\u001b[38;5;124mUnique values in\u001b[39m\u001b[38;5;124m\"\u001b[39m, column)\n\u001b[1;32m---> 17\u001b[0m     \u001b[38;5;28mprint\u001b[39m(\u001b[43mtrain_set\u001b[49m[column]\u001b[38;5;241m.\u001b[39munique())\n\u001b[0;32m     18\u001b[0m     \u001b[38;5;28mprint\u001b[39m(\u001b[38;5;124m\"\u001b[39m\u001b[38;5;124mValue counts:\u001b[39m\u001b[38;5;124m\"\u001b[39m)\n\u001b[0;32m     19\u001b[0m     \u001b[38;5;28mprint\u001b[39m(train_set[column]\u001b[38;5;241m.\u001b[39mvalue_counts())\n",
      "\u001b[1;31mNameError\u001b[0m: name 'train_set' is not defined"
     ]
    }
   ],
   "source": [
    "import matplotlib.pyplot as plt\n",
    "\n",
    "plt.rc('font', size=14)\n",
    "plt.rc('axes', labelsize=14, titlesize=14)\n",
    "plt.rc('legend', fontsize=14)\n",
    "plt.rc('xtick', labelsize=10)\n",
    "plt.rc('ytick', labelsize=10)\n",
    "\n",
    "heart.hist(bins=50, figsize=(12, 8))\n",
    "plt.show()\n",
    "\n",
    "print('\\n\\n')\n",
    "\n",
    "categorical_columns = ['sex','cp','fbs','exng','slp','output']\n",
    "for column in categorical_columns:\n",
    "    print(\"\\nUnique values in\", column)\n",
    "    print(heart_set[column].unique())\n",
    "    print(\"Value counts:\")\n",
    "    print(train_set[column].value_counts())\n",
    "\n",
    "# Analyzing numerical variables\n",
    "numerical_columns = [\n",
    "    'age','trtbps','chol','restecg','thalachh','oldpeak','ca'\n",
    "]\n",
    "\n",
    "for column in numerical_columns:\n",
    "    print(\"\\nStatistics for\", column)\n",
    "    print(\"Minimum:\", train_set[column].min())\n",
    "    print(\"Maximum:\", train_set[column].max())\n",
    "    print(\"Mean:\", train_set[column].mean())\n",
    "    print(\"Standard deviation:\", train_set[column].std())"
   ]
  },
  {
   "cell_type": "markdown",
   "id": "ec597222-b724-4c23-8b77-2230bdc34b11",
   "metadata": {},
   "source": [
    "## Split the dataset"
   ]
  },
  {
   "cell_type": "code",
   "execution_count": 17,
   "id": "bdb94a9c-979b-476d-9aa6-c9e06245ecab",
   "metadata": {},
   "outputs": [
    {
     "name": "stdout",
     "output_type": "stream",
     "text": [
      "training set:  242\n",
      "test set:  61\n"
     ]
    }
   ],
   "source": [
    "from sklearn.model_selection import train_test_split\n",
    "\n",
    "heart_set, test_set = train_test_split(heart, test_size=0.2, random_state=42)\n",
    "\n",
    "print(\"training set: \" , len(heart_set))\n",
    "print(\"test set: \", len(test_set))"
   ]
  },
  {
   "cell_type": "code",
   "execution_count": null,
   "id": "1fd42119-a186-4f0f-9713-b3bc58d6e840",
   "metadata": {},
   "outputs": [],
   "source": []
  }
 ],
 "metadata": {
  "kernelspec": {
   "display_name": "Python 3 (ipykernel)",
   "language": "python",
   "name": "python3"
  },
  "language_info": {
   "codemirror_mode": {
    "name": "ipython",
    "version": 3
   },
   "file_extension": ".py",
   "mimetype": "text/x-python",
   "name": "python",
   "nbconvert_exporter": "python",
   "pygments_lexer": "ipython3",
   "version": "3.10.9"
  }
 },
 "nbformat": 4,
 "nbformat_minor": 5
}
