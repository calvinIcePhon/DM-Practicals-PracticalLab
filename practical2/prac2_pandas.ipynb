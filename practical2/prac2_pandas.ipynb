{
 "cells": [
  {
   "cell_type": "markdown",
   "id": "fd171b36-8910-428a-b769-5cfa252e2266",
   "metadata": {},
   "source": [
    "# Practical 2 - Pandas\n",
    "### Prepared by: <a href=\"https://www.linkedin.com/in/a-kanaan/\">Dr Abdulkarim M. Jamal Kanaan</a> \n",
    "<hr>"
   ]
  },
  {
   "cell_type": "markdown",
   "id": "db4f7d97-5e58-45e0-af07-3edf6263638a",
   "metadata": {},
   "source": [
    "## Introduction to Pandas\n",
    "Pandas is a powerful and popular open-source data manipulation and analysis library for Python. It provides easy-to-use data structures and data analysis tools that are essential for working with structured data. Pandas is built on top of the NumPy library and offers efficient data handling capabilities, making it a fundamental tool in the data science ecosystem."
   ]
  },
  {
   "cell_type": "markdown",
   "id": "8c9dd67e-8f0f-403c-af4e-fa587c4abb49",
   "metadata": {},
   "source": [
    "## Installing Pandas and Setting up the Environment\n",
    "\n",
    "- Installing Pandas using pip:\n",
    "To install Pandas, you can use the pip package manager, which is the standard package installer for Python. Open your command line interface or terminal and run the following command: `pip install pandas`\n",
    "\n",
    "- Importing the Pandas library:\n",
    "Once you have successfully installed Pandas, you can import it into your Python environment to start using its functionalities. In your Python script or interactive environment, import the Pandas library using the following statement:\n",
    "`import pandas as pd`"
   ]
  },
  {
   "cell_type": "markdown",
   "id": "b4022bd6-e124-4ac4-9468-982cb556ae68",
   "metadata": {},
   "source": [
    "## Pandas Data Structures: Series and DataFrame"
   ]
  },
  {
   "cell_type": "code",
   "execution_count": 1,
   "id": "b39291af-5eee-4202-8a8b-3eb424a53531",
   "metadata": {},
   "outputs": [
    {
     "name": "stdout",
     "output_type": "stream",
     "text": [
      "Series:\n",
      "0    10\n",
      "1    20\n",
      "2    30\n",
      "3    40\n",
      "4    50\n",
      "dtype: int64\n",
      "\n",
      "DataFrame:\n",
      "       Name  Age      City\n",
      "0     Karim   25  Damascus\n",
      "1  Muhammad   30     Cairo\n",
      "2      Omar   35     Rabat\n",
      "\n",
      "DataFrame from CSV:\n",
      "       Name  Age  Gender   Salary Label\n",
      "0     Alice   25  Female  50000.0   Yes\n",
      "1       Bob   30    Male  60000.0    No\n",
      "2   Charlie   35    Male  70000.0   Yes\n",
      "3  Danielle   28  Female  55000.0   Yes\n",
      "4  Danielle   28  Female  55000.0   Yes\n",
      "5     Hanna   30  Female      NaN   Yes\n"
     ]
    }
   ],
   "source": [
    "import pandas as pd\n",
    "\n",
    "# Creating a Series from a list\n",
    "data = [10, 20, 30, 40, 50]  #Series == column\n",
    "series = pd.Series(data)\n",
    "print(\"Series:\")\n",
    "print(series)\n",
    "\n",
    "# Creating a DataFrame from a dictionary\n",
    "data = {'Name': ['Karim', 'Muhammad', 'Omar'],\n",
    "        'Age': [25, 30, 35],\n",
    "        'City': ['Damascus', 'Cairo', 'Rabat']}\n",
    "df = pd.DataFrame(data)\n",
    "print(\"\\nDataFrame:\")\n",
    "print(df)\n",
    "\n",
    "# Creating a DataFrame from a CSV file\n",
    "df_csv = pd.read_csv('data.csv')  # Replace 'data.csv' with your CSV file path\n",
    "print(\"\\nDataFrame from CSV:\")\n",
    "print(df_csv)"
   ]
  },
  {
   "cell_type": "markdown",
   "id": "a3518bd0-d722-4bc7-9710-01aa458ee1a9",
   "metadata": {},
   "source": [
    "In this code, we first import the Pandas library using import pandas as pd. Then, we demonstrate creating a Series object from a list using `pd.Series()`. We pass the list data to create a Series called series, which is then printed.\n",
    "\n",
    "Next, we create a DataFrame object from a dictionary using `pd.DataFrame()`. The dictionary data contains keys representing column names and values representing column data. We pass the dictionary to create a DataFrame called df, which is printed.\n",
    "\n",
    "Lastly, we demonstrate creating a DataFrame from a CSV file using `pd.read_csv()`. You need to replace 'data.csv' with the actual path to your CSV file. The DataFrame created from the CSV file is assigned to df_csv and printed."
   ]
  },
  {
   "cell_type": "markdown",
   "id": "c1db9e4d-04dc-4ec4-92d4-fd9924d23c84",
   "metadata": {
    "tags": []
   },
   "source": [
    "## Data Manipulation with Pandas\n",
    "- Accessing and indexing data in Series and DataFrame\n",
    "- Filtering and selecting data based on conditions\n",
    "- Adding, modifying, and deleting columns in DataFrame\n",
    "- Handling missing data (e.g., NaN values)"
   ]
  },
  {
   "cell_type": "code",
   "execution_count": 3,
   "id": "99e5e448-af95-490f-bc12-8b39f4b0c5e0",
   "metadata": {},
   "outputs": [
    {
     "name": "stdout",
     "output_type": "stream",
     "text": [
      "Original DataFrame:\n",
      "       Name  Age      City\n",
      "0     Karim   25  Damascus\n",
      "1  Muhammad   30     Cairo\n",
      "2      Omar   35     Rabat\n",
      "\n",
      "Accessing and indexing data:\n",
      "First two rows:\n",
      "       Name  Age      City\n",
      "0     Karim   25  Damascus\n",
      "1  Muhammad   30     Cairo\n",
      "Value in the 'Name' column at index 1: Muhammad\n",
      "First element of the DataFrame: Karim\n",
      "Second column of the DataFrame:\n",
      " 0    25\n",
      "1    30\n",
      "2    35\n",
      "Name: Age, dtype: int64\n",
      "Subset of the DataFrame:\n",
      "        Name  Age\n",
      "1  Muhammad   30\n",
      "2      Omar   35\n",
      "\n",
      "Filtering and selecting data:\n",
      "Rows where Age is greater than 30:\n",
      "   Name  Age   City\n",
      "2  Omar   35  Rabat\n",
      "Names of individuals living in Cairo:\n",
      "1    Muhammad\n",
      "Name: Name, dtype: object\n",
      "\n",
      "Adding, modifying, and deleting columns:\n",
      "Updated DataFrame with 'Salary' column:\n",
      "       Name  Age      City  Salary\n",
      "0     Karim   25  Damascus   50000\n",
      "1  Muhammad   30     Cairo   60000\n",
      "2      Omar   35     Rabat   70000\n",
      "Updated DataFrame with modified 'Age' column:\n",
      "       Name  Age      City  Salary\n",
      "0     Karim   26  Damascus   50000\n",
      "1  Muhammad   31     Cairo   60000\n",
      "2      Omar   36     Rabat   70000\n",
      "Updated DataFrame with 'City' column deleted:\n",
      "       Name  Age  Salary\n",
      "0     Karim   26   50000\n",
      "1  Muhammad   31   60000\n",
      "2      Omar   36   70000\n"
     ]
    }
   ],
   "source": [
    "import pandas as pd\n",
    "\n",
    "# Creating a DataFrame\n",
    "data = {'Name': ['Karim', 'Muhammad', 'Omar'],\n",
    "        'Age': [25, 30, 35],\n",
    "        'City': ['Damascus', 'Cairo', 'Rabat']}\n",
    "df = pd.DataFrame(data)\n",
    "print(\"Original DataFrame:\")\n",
    "print(df)\n",
    "\n",
    "# Accessing and indexing data\n",
    "print(\"\\nAccessing and indexing data:\")\n",
    "print(\"First two rows:\")\n",
    "print(df.head(2))  # Access first two rows of the DataFrame\n",
    "print(\"Value in the 'Name' column at index 1:\", df.loc[1, 'Name'])  # Access specific value using loc\n",
    "print(\"First element of the DataFrame:\", df.iloc[0, 0]) # Accessing a single element\n",
    "print(\"Second column of the DataFrame:\\n\", df.iloc[:, 1]) # Accessing a single column\n",
    "print(\"Subset of the DataFrame:\\n\", df.iloc[1:3, 0:2]) # Accessing a subset of rows and columns\n",
    "\n",
    "# Filtering and selecting data\n",
    "print(\"\\nFiltering and selecting data:\")\n",
    "print(\"Rows where Age is greater than 30:\")\n",
    "print(df[df['Age'] > 30])  # Filter rows based on a condition\n",
    "print(\"Names of individuals living in Cairo:\")\n",
    "print(df.loc[df['City'] == 'Cairo', 'Name'])  # Select specific column based on a condition\n",
    "\n",
    "# Adding, modifying, and deleting columns\n",
    "print(\"\\nAdding, modifying, and deleting columns:\")\n",
    "df['Salary'] = [50000, 60000, 70000]  # Add a new column\n",
    "print(\"Updated DataFrame with 'Salary' column:\")\n",
    "print(df)\n",
    "df['Age'] = df['Age'] + 1  # Modify values in an existing column\n",
    "print(\"Updated DataFrame with modified 'Age' column:\")\n",
    "print(df)\n",
    "df.drop('City', axis=1, inplace=True)  # Delete a column  axis=1 or axis=\"column\"   axis=0 or axis=\"row\"   inplace : directly modify the original file\n",
    "print(\"Updated DataFrame with 'City' column deleted:\")\n",
    "print(df)"
   ]
  },
  {
   "cell_type": "code",
   "execution_count": 4,
   "id": "7166b47d-2750-4149-a4d1-639edb564cf2",
   "metadata": {},
   "outputs": [
    {
     "name": "stdout",
     "output_type": "stream",
     "text": [
      "\n",
      "Handling missing data:\n",
      "DataFrame with missing data:\n",
      "       Name   Age      City\n",
      "0     Karim  25.0  Damascus\n",
      "1  Muhammad  30.0     Cairo\n",
      "2      Omar   NaN     Rabat\n",
      "3     Hanaa  40.0      None\n",
      "DataFrame with missing values dropped:\n",
      "       Name   Age      City\n",
      "0     Karim  25.0  Damascus\n",
      "1  Muhammad  30.0     Cairo\n",
      "DataFrame with missing values filled:\n",
      "       Name       Age      City\n",
      "0     Karim      25.0  Damascus\n",
      "1  Muhammad      30.0     Cairo\n",
      "2      Omar  Hello NA     Rabat\n",
      "3     Hanaa      40.0  Hello NA\n"
     ]
    }
   ],
   "source": [
    "# Handling missing data\n",
    "print(\"\\nHandling missing data:\")\n",
    "data = {'Name': ['Karim', 'Muhammad', 'Omar', 'Hanaa'],\n",
    "        'Age': [25, 30, None, 40], \n",
    "        'City': ['Damascus', 'Cairo', 'Rabat', None]}\n",
    "df_missing = pd.DataFrame(data)\n",
    "print(\"DataFrame with missing data:\")\n",
    "print(df_missing)\n",
    "print(\"DataFrame with missing values dropped:\")\n",
    "print(df_missing.dropna())  # Drop rows with missing values\n",
    "print(\"DataFrame with missing values filled:\")\n",
    "print(df_missing.fillna('Hello NA'))  # Fill missing values with a specific value"
   ]
  },
  {
   "cell_type": "markdown",
   "id": "57311bb2-3ab4-41d7-aa3f-53d0fcb1a9df",
   "metadata": {},
   "source": [
    "## Data Exploration and Analysis"
   ]
  },
  {
   "cell_type": "code",
   "execution_count": 7,
   "id": "e07aa28d-d3da-4785-9608-443bbef45217",
   "metadata": {},
   "outputs": [
    {
     "name": "stdout",
     "output_type": "stream",
     "text": [
      "Original DataFrame:\n",
      "       Name  Gender  Age  Salary\n",
      "0     Karim    Male   25   50000\n",
      "1  Muhammad    Male   25   55000\n",
      "2      Omar    Male   30   60000\n",
      "3      Saad    Male   35   60000\n",
      "4     Hanaa  Female   40   55000\n",
      "\n",
      "Descriptive statistics:\n",
      "             Age        Salary\n",
      "count   5.000000      5.000000\n",
      "mean   31.000000  56000.000000\n",
      "std     6.519202   4183.300133\n",
      "min    25.000000  50000.000000\n",
      "25%    25.000000  55000.000000\n",
      "50%    30.000000  55000.000000\n",
      "75%    35.000000  60000.000000\n",
      "max    40.000000  60000.000000\n",
      "Mean age: 31.0\n",
      "Median salary: 55000.0\n",
      "Minimum age: 25\n",
      "Maximum salary: 60000\n",
      "\n",
      "Aggregation and grouping:\n",
      "Grouped DataFrame:\n",
      "      Salary\n",
      "Age         \n",
      "25   52500.0\n",
      "30   60000.0\n",
      "35   60000.0\n",
      "40   55000.0\n",
      "\n",
      "Applying functions:\n",
      "DataFrame with squared age values:\n",
      "       Name  Gender  Age  Salary  Age_squared\n",
      "0     Karim    Male   25   50000          625\n",
      "1  Muhammad    Male   25   55000          625\n",
      "2      Omar    Male   30   60000          900\n",
      "3      Saad    Male   35   60000         1225\n",
      "4     Hanaa  Female   40   55000         1600\n",
      "Results where 'Age > 30':\n",
      "    Name Gender  Age  Salary  Age_squared\n",
      "2  Omar   Male   30   60000          900\n",
      "3  Saad   Male   35   60000         1225 \n",
      "\n",
      "Salary  50000  55000  60000\n",
      "Age                        \n",
      "25          1      1      0\n",
      "30          0      0      1\n",
      "35          0      0      1\n",
      "40          0      1      0\n",
      "\n",
      "Data visualization:\n"
     ]
    },
    {
     "data": {
      "image/png": "[encoded data removed]",
      "text/plain": [
       "<Figure size 640x480 with 1 Axes>"
      ]
     },
     "metadata": {},
     "output_type": "display_data"
    }
   ],
   "source": [
    "import pandas as pd\n",
    "import numpy as np\n",
    "import matplotlib.pyplot as plt\n",
    "\n",
    "# Creating a DataFrame\n",
    "data = {'Name': ['Karim', 'Muhammad', 'Omar', 'Saad', 'Hanaa'],\n",
    "        'Gender': ['Male', 'Male', 'Male', 'Male', 'Female'],\n",
    "        'Age': [25, 25, 30, 35, 40],\n",
    "        'Salary': [50000, 55000, 60000, 60000, 55000]}\n",
    "df = pd.DataFrame(data)\n",
    "print(\"Original DataFrame:\")\n",
    "print(df)\n",
    "\n",
    "# Descriptive statistics\n",
    "print(\"\\nDescriptive statistics:\")\n",
    "print(df.describe())\n",
    "print(\"Mean age:\", df['Age'].mean())\n",
    "print(\"Median salary:\", df['Salary'].median())\n",
    "print(\"Minimum age:\", df['Age'].min())\n",
    "print(\"Maximum salary:\", df['Salary'].max())\n",
    "\n",
    "# Aggregation and grouping\n",
    "print(\"\\nAggregation and grouping:\")\n",
    "grouped_df = df.groupby('Age').mean(numeric_only=True)  # Grouping by 'Age' and calculating mean values\n",
    "print(\"Grouped DataFrame:\")\n",
    "print(grouped_df)\n",
    "\n",
    "# Applying functions\n",
    "print(\"\\nApplying functions:\")\n",
    "df['Age_squared'] = df['Age'].apply(lambda x: x ** 2)  # Applying a lambda function to create a new column\n",
    "print(\"DataFrame with squared age values:\")\n",
    "print(df)\n",
    "\n",
    "# Use object queries to filter the DataFrame\n",
    "result = df.query('Salary > 55000')\n",
    "print(\"Results where 'Age > 30':\\n\", result, \"\\n\")\n",
    "\n",
    "# Compute a cross-tabulation\n",
    "cross_tab = pd.crosstab(df['Age'], [df['Salary']])\n",
    "print(cross_tab)\n",
    "\n",
    "# Data visualization\n",
    "print(\"\\nData visualization:\")\n",
    "df.plot(x='Name', y='Salary', kind='bar', title='Salary Distribution')  # Plotting using Pandas plot method\n",
    "plt.show()  # Display the plot using Matplotlib\n"
   ]
  }
 ],
 "metadata": {
  "kernelspec": {
   "display_name": "Python 3 (ipykernel)",
   "language": "python",
   "name": "python3"
  },
  "language_info": {
   "codemirror_mode": {
    "name": "ipython",
    "version": 3
   },
   "file_extension": ".py",
   "mimetype": "text/x-python",
   "name": "python",
   "nbconvert_exporter": "python",
   "pygments_lexer": "ipython3",
   "version": "3.10.9"
  }
 },
 "nbformat": 4,
 "nbformat_minor": 5
}
